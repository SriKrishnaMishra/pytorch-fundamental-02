{
  "nbformat": 4,
  "nbformat_minor": 0,
  "metadata": {
    "colab": {
      "provenance": [],
      "gpuType": "T4",
      "authorship_tag": "ABX9TyMlW8qXIAX5IvHStSWaKlVP",
      "include_colab_link": true
    },
    "kernelspec": {
      "name": "python3",
      "display_name": "Python 3"
    },
    "language_info": {
      "name": "python"
    },
    "accelerator": "GPU"
  },
  "cells": [
    {
      "cell_type": "markdown",
      "metadata": {
        "id": "view-in-github",
        "colab_type": "text"
      },
      "source": [
        "<a href=\"https://colab.research.google.com/github/SriKrishnaMishra/pytorch-fundamental-02/blob/main/pytorch_fundamental_02.ipynb\" target=\"_parent\"><img src=\"https://colab.research.google.com/assets/colab-badge.svg\" alt=\"Open In Colab\"/></a>"
      ]
    },
    {
      "cell_type": "markdown",
      "source": [
        "# There having some question in this model"
      ],
      "metadata": {
        "id": "7omTPeXalqim"
      }
    },
    {
      "cell_type": "markdown",
      "source": [
        "### **topic - **\n",
        "torch.nn\n",
        "\n",
        "mathplotlib\n",
        "\n",
        "nn.parameter\n",
        "\n",
        "plot-predications\n",
        "\n",
        "parameter\n",
        "\n",
        "linear regression\n",
        "\n",
        "numerical represtation\n",
        "\n",
        "requires-grad = true\n",
        "\n",
        "forword()\n",
        "\n",
        "backward()\n",
        "\n",
        "### ** main method algorithm**\n",
        "gradient desent\n",
        "\n",
        "backprogration\n",
        "\n",
        "nn.modules\n",
        "\n",
        "model parameters\n",
        "\n",
        "torch.nn\n",
        "\n",
        "mean absolute error\n",
        "\n",
        "epoch\n",
        "\n"
      ],
      "metadata": {
        "id": "jmSLqEO7lrkF"
      }
    },
    {
      "cell_type": "markdown",
      "source": [
        "### **what is torch.nn**\n",
        "\n",
        "In PyTorch, torch.nn is a module that helps you build neural networks easily.\n",
        "\n",
        "Think of it like a toolbox that gives you ready-made blocks (like LEGO) to build machine learning models.\n",
        "\n",
        "### **Why do we need torch.nn?**\n",
        "\n",
        "When you're building a neural network, you need to:\n",
        "\n",
        "Define layers (like Linear/Convolutional layers)\n",
        "\n",
        "Add activation functions (like ReLU, Sigmoid)\n",
        "\n",
        "Compute loss (like how wrong your model is)\n",
        "\n",
        "Update weights (with optimizers)\n",
        "\n",
        "Instead of coding all this from scratch, torch.nn gives you pre-built tools to do it faster and more reliably\n",
        "\n",
        "### **Example**: Building a simple network\n",
        "\n",
        "import torch.nn as nn\n",
        "\n",
        "### **Key** Components in torch.nn\n",
        "\n",
        " | Component             | Description (Simple)                           |\n",
        "| --------------------- | ---------------------------------------------- |\n",
        "| `nn.Linear`           | Fully connected layer (input × weights + bias) |\n",
        "| `nn.ReLU`             | Activation function (introduces non-linearity) |\n",
        "| `nn.Conv2d`           | Convolution layer for images                   |\n",
        "| `nn.LSTM`             | Layer for sequences like text or time series   |\n",
        "| `nn.CrossEntropyLoss` | Loss function for classification problems      |\n",
        "| `nn.Module`           | Base class for **custom models**               |\n",
        "\n",
        "\n",
        "\n"
      ],
      "metadata": {
        "id": "u2rCGglGnszT"
      }
    },
    {
      "cell_type": "code",
      "execution_count": 2,
      "metadata": {
        "id": "rl-u53A7lXat"
      },
      "outputs": [],
      "source": [
        "# **Example**: Building a simple network\n",
        "import torch.nn as nn\n",
        "model = nn.Sequential(\n",
        "    nn.Linear(10, 20),  # Layer: 10 inputs → 20 outputs\n",
        "    nn.ReLU(),          # Activation function\n",
        "    nn.Linear(20, 1)    # Layer: 20 inputs → 1 output\n",
        ")"
      ]
    },
    {
      "cell_type": "markdown",
      "source": [
        "### **what is mathplotlib**\n",
        "\n",
        "\n",
        "Matplotlib is a Python library used to make charts, graphs, and plots.\n",
        "It helps you visualize data in an easy and beautiful way.\n",
        "\n",
        "You can think of it like:\n",
        "\n",
        "“A tool to draw graphs in Python — like Excel charts, but in code.”\n",
        "\n",
        "### **What can you do with Matplotlib? **\n",
        "\n",
        "### **With Matplotlib, you can create:  **\n",
        "\n",
        "Line charts (trends over time)\n",
        "\n",
        "Bar charts (comparing values)\n",
        "\n",
        "Scatter plots (points on X-Y axes)\n",
        "\n",
        "Pie charts (percentages)\n",
        "\n",
        "Images, heatmaps, and more!\n",
        "\n",
        "### **Example:**\n",
        "python\n",
        "Copy\n",
        "Edit\n",
        "\n",
        "### ** Why is it useful?**\n",
        "When working on:\n",
        "\n",
        "Machine Learning\n",
        "\n",
        "Data Science\n",
        "\n",
        "Research or analytics\n",
        "\n",
        "You often need to see patterns in your data. Matplotlib helps you \"see\" your numbers in a clear, visual way.\n",
        "\n",
        "### **Bonus:**\n",
        "Matplotlib works well with:\n",
        "\n",
        "NumPy (for arrays)\n",
        "\n",
        "Pandas (for data tables)\n",
        "\n",
        "Seaborn (another library built on top of Matplotlib for prettier charts)"
      ],
      "metadata": {
        "id": "YlEOqDnYsDGX"
      }
    },
    {
      "cell_type": "code",
      "source": [
        "import matplotlib.pyplot as plt\n",
        "\n",
        "# Sample data\n",
        "x = [1, 2, 3, 4, 5]\n",
        "y = [2, 3, 5, 7, 11]\n",
        "\n",
        "# Create a line graph\n",
        "plt.plot(x, y)\n",
        "plt.title(\"Simple Line Graph\")\n",
        "plt.xlabel(\"X values\")\n",
        "plt.ylabel(\"Y values\")\n",
        "plt.show()\n"
      ],
      "metadata": {
        "colab": {
          "base_uri": "https://localhost:8080/",
          "height": 472
        },
        "id": "v0SQN1UJuSTJ",
        "outputId": "f6c4a108-2405-42e9-859b-f8596d3a81e2"
      },
      "execution_count": 3,
      "outputs": [
        {
          "output_type": "display_data",
          "data": {
            "text/plain": [
              "<Figure size 640x480 with 1 Axes>"
            ],
            "image/png": "[encoded data removed]"
          },
          "metadata": {}
        }
      ]
    },
    {
      "cell_type": "code",
      "source": [
        "import torch\n",
        "from torch import nn # nn contains all of PyTorch's building blocks for neural networks\n",
        "import matplotlib.pyplot as plt\n",
        "\n",
        "# Check PyTorch version\n",
        "torch.__version__"
      ],
      "metadata": {
        "colab": {
          "base_uri": "https://localhost:8080/",
          "height": 36
        },
        "id": "NNp1QWS4vLkr",
        "outputId": "7353f511-bcfa-459d-b749-88f60955d9b6"
      },
      "execution_count": 4,
      "outputs": [
        {
          "output_type": "execute_result",
          "data": {
            "text/plain": [
              "'2.6.0+cu124'"
            ],
            "application/vnd.google.colaboratory.intrinsic+json": {
              "type": "string"
            }
          },
          "metadata": {},
          "execution_count": 4
        }
      ]
    },
    {
      "cell_type": "markdown",
      "source": [
        "### 1. Data (preparing and loading)¶\n",
        "\n",
        "\n"
      ],
      "metadata": {
        "id": "cIyk-OwXvnGL"
      }
    },
    {
      "cell_type": "markdown",
      "source": [
        "some concpet\n",
        "\n",
        "### **what is Linear Regression**\n",
        "\n",
        "Linear Regression is a machine learning algorithm used to predict a number based on some input.\n",
        "\n",
        "### **Basic Idea:**\n",
        "It learns the best straight line (called a \"regression line\") that fits the data.\n",
        "\n",
        "The line looks like:\n",
        "\n"
      ],
      "metadata": {
        "id": "RNxrUsIzwdr5"
      }
    },
    {
      "cell_type": "code",
      "source": [
        "Y = mX + b\n",
        "\n",
        "# Where:\n",
        "\n",
        "# Y is the prediction (e.g. marks)\n",
        "\n",
        "# X is the input (e.g. hours studied)\n",
        "\n",
        "# m is the slope (how steep the line is)\n",
        "\n",
        "# b is the intercept (where the line crosses Y-axis)"
      ],
      "metadata": {
        "colab": {
          "base_uri": "https://localhost:8080/",
          "height": 211
        },
        "id": "0GBgOPiTwdIj",
        "outputId": "a2209107-3aff-4448-ef0f-be10b7a41b36"
      },
      "execution_count": 5,
      "outputs": [
        {
          "output_type": "error",
          "ename": "NameError",
          "evalue": "name 'mX' is not defined",
          "traceback": [
            "\u001b[0;31m---------------------------------------------------------------------------\u001b[0m",
            "\u001b[0;31mNameError\u001b[0m                                 Traceback (most recent call last)",
            "\u001b[0;32m/tmp/ipython-input-5-3458979936.py\u001b[0m in \u001b[0;36m<cell line: 0>\u001b[0;34m()\u001b[0m\n\u001b[0;32m----> 1\u001b[0;31m \u001b[0mY\u001b[0m \u001b[0;34m=\u001b[0m \u001b[0mmX\u001b[0m \u001b[0;34m+\u001b[0m \u001b[0mb\u001b[0m\u001b[0;34m\u001b[0m\u001b[0;34m\u001b[0m\u001b[0m\n\u001b[0m\u001b[1;32m      2\u001b[0m \u001b[0;34m\u001b[0m\u001b[0m\n\u001b[1;32m      3\u001b[0m \u001b[0;31m# Where:\u001b[0m\u001b[0;34m\u001b[0m\u001b[0;34m\u001b[0m\u001b[0m\n\u001b[1;32m      4\u001b[0m \u001b[0;34m\u001b[0m\u001b[0m\n\u001b[1;32m      5\u001b[0m \u001b[0;31m# Y is the prediction (e.g. marks)\u001b[0m\u001b[0;34m\u001b[0m\u001b[0;34m\u001b[0m\u001b[0m\n",
            "\u001b[0;31mNameError\u001b[0m: name 'mX' is not defined"
          ]
        }
      ]
    },
    {
      "cell_type": "markdown",
      "source": [
        "### **what is parameters**\n",
        "\n",
        "In machine learning (and also in math or programming), parameters are the \"learned values\" that a model adjusts during training to make better predictions.\n",
        "\n",
        "m = slope of the line\n",
        "\n",
        "b = where the line starts (intercept)"
      ],
      "metadata": {
        "id": "svT_qupTzGIx"
      }
    },
    {
      "cell_type": "code",
      "source": [
        "Marks = m × Hours + b\n",
        "\n"
      ],
      "metadata": {
        "colab": {
          "base_uri": "https://localhost:8080/",
          "height": 106
        },
        "id": "_5kPSZ361ip3",
        "outputId": "aa0bae8f-bc4e-46dd-df09-890e0c493c99"
      },
      "execution_count": 6,
      "outputs": [
        {
          "output_type": "error",
          "ename": "SyntaxError",
          "evalue": "invalid character '×' (U+00D7) (ipython-input-6-2000633072.py, line 1)",
          "traceback": [
            "\u001b[0;36m  File \u001b[0;32m\"/tmp/ipython-input-6-2000633072.py\"\u001b[0;36m, line \u001b[0;32m1\u001b[0m\n\u001b[0;31m    Marks = m × Hours + b\u001b[0m\n\u001b[0m              ^\u001b[0m\n\u001b[0;31mSyntaxError\u001b[0m\u001b[0;31m:\u001b[0m invalid character '×' (U+00D7)\n"
          ]
        }
      ]
    },
    {
      "cell_type": "code",
      "source": [
        "import torch.nn as nn\n",
        "\n",
        "model = nn.Linear(1, 1)  # A simple linear model\n",
        "\n",
        "# See parameters\n",
        "for param in model.parameters():\n",
        "    print(param)"
      ],
      "metadata": {
        "colab": {
          "base_uri": "https://localhost:8080/"
        },
        "id": "iQX9557n15Jb",
        "outputId": "1b74383f-78e8-4f40-a5cc-1c806a106109"
      },
      "execution_count": 7,
      "outputs": [
        {
          "output_type": "stream",
          "name": "stdout",
          "text": [
            "Parameter containing:\n",
            "tensor([[-0.3714]], requires_grad=True)\n",
            "Parameter containing:\n",
            "tensor([0.2906], requires_grad=True)\n"
          ]
        }
      ]
    },
    {
      "cell_type": "markdown",
      "source": [
        "### **what is gradient descent**\n",
        "\n",
        "Gradient Descent is a way to train machine learning models by slowly improving them step-by-step.\n",
        "\n",
        "It's like telling the model:\n",
        "\n",
        "“You made a mistake. Here's how to change your parameters to do better next time.”\n",
        "\n",
        "\n",
        "Super Simple Analogy:\n",
        "Imagine you're on a mountain and it’s foggy 🌫️. You want to reach the lowest point (the valley).\n",
        "\n",
        "### **So what do you do?**\n",
        "\n",
        "👉 You take small steps downhill, one step at a time.\n",
        "You feel the slope beneath your feet and keep walking down until you can’t go lower.\n",
        "\n",
        "That’s gradient descent!\n",
        "\n",
        "The mountain = Loss/Error\n",
        "\n",
        "You = The model\n",
        "\n",
        "The lowest point = Best model (minimum error)\n",
        "\n",
        "Slope = Gradient\n",
        "\n",
        "Step size = Learning Rate"
      ],
      "metadata": {
        "id": "8bpLBWCV1_sM"
      }
    },
    {
      "cell_type": "code",
      "source": [
        "# Create *known* parameters\n",
        "import torch\n",
        "\n",
        "weight = 0.7\n",
        "bias = 0.3\n",
        "\n",
        "# Create data\n",
        "start = 0\n",
        "end = 1\n",
        "step = 0.02\n",
        "X = torch.arange(start, end, step).unsqueeze(dim=1)\n",
        "y = weight * X + bias\n",
        "\n",
        "X[:10], y[:10]"
      ],
      "metadata": {
        "colab": {
          "base_uri": "https://localhost:8080/"
        },
        "id": "rDziC0NI77dd",
        "outputId": "34747663-c7bb-4d9b-d4b9-7c966c17cfad"
      },
      "execution_count": 8,
      "outputs": [
        {
          "output_type": "execute_result",
          "data": {
            "text/plain": [
              "(tensor([[0.0000],\n",
              "         [0.0200],\n",
              "         [0.0400],\n",
              "         [0.0600],\n",
              "         [0.0800],\n",
              "         [0.1000],\n",
              "         [0.1200],\n",
              "         [0.1400],\n",
              "         [0.1600],\n",
              "         [0.1800]]),\n",
              " tensor([[0.3000],\n",
              "         [0.3140],\n",
              "         [0.3280],\n",
              "         [0.3420],\n",
              "         [0.3560],\n",
              "         [0.3700],\n",
              "         [0.3840],\n",
              "         [0.3980],\n",
              "         [0.4120],\n",
              "         [0.4260]]))"
            ]
          },
          "metadata": {},
          "execution_count": 8
        }
      ]
    },
    {
      "cell_type": "code",
      "source": [
        "import torch\n",
        "from torch import nn\n",
        "\n",
        "X = torch.tensor([0.0, 0.5, 1.0])       # shape: [3]\n",
        "X = X.unsqueeze(1)                     # shape: [3, 1]\n",
        "model = nn.Linear(1, 1)\n",
        "output = model(X)                      # works fine now!\n"
      ],
      "metadata": {
        "id": "AtC60drP-QK8"
      },
      "execution_count": 9,
      "outputs": []
    },
    {
      "cell_type": "markdown",
      "source": [
        "### we can create them by splitting our X and y tensors."
      ],
      "metadata": {
        "id": "p9QVxzvE_Brf"
      }
    },
    {
      "cell_type": "code",
      "source": [
        "# Create train/test split\n",
        "train_split = int(0.8 * len(X)) # 80% of data used for training set, 20% for testing\n",
        "X_train, y_train = X[:train_split], y[:train_split]\n",
        "X_test, y_test = X[train_split:], y[train_split:]\n",
        "\n",
        "len(X_train), len(y_train), len(X_test), len(y_test)"
      ],
      "metadata": {
        "colab": {
          "base_uri": "https://localhost:8080/"
        },
        "id": "Ui-TNQgQ-_us",
        "outputId": "39b0910c-19f7-4538-913b-4dd881fe8661"
      },
      "execution_count": 11,
      "outputs": [
        {
          "output_type": "execute_result",
          "data": {
            "text/plain": [
              "(2, 2, 1, 48)"
            ]
          },
          "metadata": {},
          "execution_count": 11
        }
      ]
    },
    {
      "cell_type": "code",
      "source": [
        "# Create train/test split\n",
        "train_split = int(0.8 * len(X)) # 80% of data used for training set, 20% for testing\n",
        "X_train, y_train = X[:train_split], y[:train_split]\n",
        "X_test, y_test = X[train_split:], y[train_split:]\n",
        "\n",
        "len(X_train), len(y_train), len(X_test), len(y_test)"
      ],
      "metadata": {
        "colab": {
          "base_uri": "https://localhost:8080/"
        },
        "id": "3Q4AxGhu_OUd",
        "outputId": "b52196ba-8294-4842-d8fe-2322015a6b72"
      },
      "execution_count": 10,
      "outputs": [
        {
          "output_type": "execute_result",
          "data": {
            "text/plain": [
              "(2, 2, 1, 48)"
            ]
          },
          "metadata": {},
          "execution_count": 10
        }
      ]
    },
    {
      "cell_type": "code",
      "source": [
        "# Create train/test split\n",
        "train_split = int(0.8 * len(X)) # 80% of data used for training set, 20% for testing\n",
        "X_train, y_train = X[:train_split], y[:train_split]\n",
        "X_test, y_test = X[train_split:], y[train_split:]\n",
        "\n",
        "len(X_train), len(y_train), len(X_test), len(y_test)\n"
      ],
      "metadata": {
        "colab": {
          "base_uri": "https://localhost:8080/"
        },
        "id": "381liCZU_QFB",
        "outputId": "f8b1c582-0577-4380-c8db-98bbe7e26250"
      },
      "execution_count": 13,
      "outputs": [
        {
          "output_type": "execute_result",
          "data": {
            "text/plain": [
              "(2, 2, 1, 48)"
            ]
          },
          "metadata": {},
          "execution_count": 13
        }
      ]
    },
    {
      "cell_type": "code",
      "source": [
        "def plot_predictions(train_data=X_train,\n",
        "                     train_labels=y_train,\n",
        "                     test_data=X_test,\n",
        "                     test_labels=y_test,\n",
        "                     predictions=None):\n",
        "  \"\"\"\n",
        "  Plots training data, test data and compares predictions.\n",
        "  \"\"\"\n",
        "  plt.figure(figsize=(10, 7))\n",
        "\n",
        "  # Plot training data in blue\n",
        "  plt.scatter(train_data, train_labels, c=\"b\", s=4, label=\"Training data\")\n",
        "\n",
        "  # Plot test data in green\n",
        "  plt.scatter(test_data, test_labels, c=\"g\", s=4, label=\"Testing data\")\n",
        "\n",
        "  if predictions is not None:\n",
        "    # Plot the predictions in red (predictions were made on the test data)\n",
        "    plt.scatter(test_data, predictions, c=\"r\", s=4, label=\"Predictions\")\n",
        "\n",
        "  # Show the legend\n",
        "  plt.legend(prop={\"size\": 14});\n",
        "  plot_predictions();"
      ],
      "metadata": {
        "id": "DxEDHjkS_YPh"
      },
      "execution_count": 12,
      "outputs": []
    },
    {
      "cell_type": "markdown",
      "source": [
        "## 2. Build model¶\n"
      ],
      "metadata": {
        "id": "6dtmzs-PBRK7"
      }
    },
    {
      "cell_type": "code",
      "source": [
        "# Create a Linear Regression model class\n",
        "class LinearRegressionModel(nn.Module): # <- almost everything in PyTorch is a nn.Module (think of this as neural network lego blocks)\n",
        "    def __init__(self):\n",
        "        super().__init__()\n",
        "        self.weights = nn.Parameter(torch.randn(1, # <- start with random weights (this will get adjusted as the model learns)\n",
        "                                                dtype=torch.float), # <- PyTorch loves float32 by default\n",
        "                                   requires_grad=True) # <- can we update this value with gradient descent?)\n",
        "\n",
        "        self.bias = nn.Parameter(torch.randn(1, # <- start with random bias (this will get adjusted as the model learns)\n",
        "                                            dtype=torch.float), # <- PyTorch loves float32 by default\n",
        "                                requires_grad=True) # <- can we update this value with gradient descent?))\n",
        "\n",
        "    # Forward defines the computation in the model\n",
        "    def forward(self, x: torch.Tensor) -> torch.Tensor: # <- \"x\" is the input data (e.g. training/testing features)\n",
        "        return self.weights * x + self.bias # <- this is the linear regression formula (y = m*x + b)"
      ],
      "metadata": {
        "id": "tLj2NIXnAVCi"
      },
      "execution_count": 14,
      "outputs": []
    },
    {
      "cell_type": "markdown",
      "source": [
        "### PyTorch module\tWhat does it do?\n",
        "\n",
        "\n",
        "| PyTorch Component      | Primary Role                                                          | Key Extra Concept                                                          |\n",
        "| ---------------------- | --------------------------------------------------------------------- | -------------------------------------------------------------------------- |\n",
        "| **torch.nn**           | Building blocks for creating neural networks.                         | Modular design allows flexible model composition.                          |\n",
        "| **torch.nn.Parameter** | Stores trainable tensors and registers them automatically in modules. | Enables seamless integration with autograd and optimizers.                 |\n",
        "| **torch.nn.Module**    | Base class for all models, managing submodules and parameters.        | Supports mode switching, hook registration, and nested modules.            |\n",
        "| **torch.optim**        | Contains optimization algorithms to update parameters.                | Works with hyperparameter tuning and learning rate schedulers.             |\n",
        "| **def forward()**      | Defines the computations done by the model on the input data.         | Builds dynamic graphs, enabling automatic differentiation and flexibility. |\n"
      ],
      "metadata": {
        "id": "KxEgLCBaD0i1"
      }
    },
    {
      "cell_type": "markdown",
      "source": [
        "| Concept              | What it Does                                           |\n",
        "| -------------------- | ------------------------------------------------------ |\n",
        "| `torch.nn.Module`    | Model architecture (like Lego blocks)                  |\n",
        "| `nn.Parameter`       | Trainable weights & biases                             |\n",
        "| `forward()`          | Computes predictions using model logic                 |\n",
        "| `torch.optim`        | Updates weights to minimize the error                  |\n",
        "| `autograd`           | Automatically computes gradients for backpropagation   |\n",
        "| `loss function`      | Measures how wrong the model is                        |\n",
        "| `training loop`      | Repeats the learning process                           |\n",
        "| `Dataset/DataLoader` | Efficiently feeds data to the model                    |\n",
        "| `Tensors`            | Stores all inputs, outputs, weights                    |\n",
        "| `device (CPU/GPU)`   | Allows you to train faster using hardware acceleration |\n"
      ],
      "metadata": {
        "id": "2IWtFwJ2FzOP"
      }
    },
    {
      "cell_type": "markdown",
      "source": [
        "| Concept              | What it Does                                           |\n",
        "| -------------------- | ------------------------------------------------------ |\n",
        "| `torch.nn.Module`    | Model architecture (like Lego blocks)                  |\n",
        "| `nn.Parameter`       | Trainable weights & biases                             |\n",
        "| `forward()`          | Computes predictions using model logic                 |\n",
        "| `torch.optim`        | Updates weights to minimize the error                  |\n",
        "| `autograd`           | Automatically computes gradients for backpropagation   |\n",
        "| `loss function`      | Measures how wrong the model is                        |\n",
        "| `training loop`      | Repeats the learning process                           |\n",
        "| `Dataset/DataLoader` | Efficiently feeds data to the model                    |\n",
        "| `Tensors`            | Stores all inputs, outputs, weights                    |\n",
        "| `device (CPU/GPU)`   | Allows you to train faster using hardware acceleration |\n"
      ],
      "metadata": {
        "id": "AT9Rj1rlGcEQ"
      }
    },
    {
      "cell_type": "markdown",
      "source": [
        "### Checking the contents of a PyTorch model¶\n"
      ],
      "metadata": {
        "id": "AXird60MG3nT"
      }
    },
    {
      "cell_type": "code",
      "source": [
        "import torch\n",
        "import torch.nn as nn\n",
        "class LinearRegressionModel(nn.Module): # <- almost everything in PyTorch is a nn.Module (think of this as neural network lego blocks)\n",
        "    def __init__(self):\n",
        "        super().__init__()\n",
        "        self.weights = nn.Parameter(torch.randn(1,\n",
        "                                                requires_grad = True,\n",
        "                                                dtype = torch.float\n",
        "        ))# <- start with random weights (this will get adjusted as the model learns)\n",
        "\n",
        "        self.bias = nn.Parameter(torch.randn(1,\n",
        "                                             requires_grad = True,\n",
        "                                             dtype = torch.float\n",
        "        ))# <- start with random bias (this will get adjusted as the model learns)\n",
        "\n",
        "    # Forward\n",
        "\n",
        "    def forward(self, x: torch.Tensor) -> torch.Tensor: # <- \"x\" is the input data (e.g. training/testing features)\n",
        "        return self.weights * x + self.bias # <- this is the linear regression formula"
      ],
      "metadata": {
        "id": "CkqvNFC1MXi7"
      },
      "execution_count": 15,
      "outputs": []
    },
    {
      "cell_type": "code",
      "source": [
        "# Set manual seed since nn.Parameter are randomly initialized\n",
        "torch.manual_seed(42)\n",
        "\n",
        "# Create an instance of the model (this is a subclass of nn.Module that contains nn.Parameter(s))\n",
        "model_0 = LinearRegressionModel()\n",
        "\n",
        "# Check the nn.Parameter(s) within the nn.Module subclass we created\n",
        "list(model_0.parameters())"
      ],
      "metadata": {
        "colab": {
          "base_uri": "https://localhost:8080/"
        },
        "id": "MAU4q4ZNHiKK",
        "outputId": "88cb8669-040d-4ef8-ad37-ab1172094b91"
      },
      "execution_count": 16,
      "outputs": [
        {
          "output_type": "execute_result",
          "data": {
            "text/plain": [
              "[Parameter containing:\n",
              " tensor([0.3367], requires_grad=True),\n",
              " Parameter containing:\n",
              " tensor([0.1288], requires_grad=True)]"
            ]
          },
          "metadata": {},
          "execution_count": 16
        }
      ]
    },
    {
      "cell_type": "code",
      "source": [
        "# List named parameters\n",
        "model_0.state_dict()"
      ],
      "metadata": {
        "colab": {
          "base_uri": "https://localhost:8080/"
        },
        "id": "X4yO0wdzOFjr",
        "outputId": "1a1e8959-a621-407d-f9c4-1944e019ec3b"
      },
      "execution_count": 17,
      "outputs": [
        {
          "output_type": "execute_result",
          "data": {
            "text/plain": [
              "OrderedDict([('weights', tensor([0.3367])), ('bias', tensor([0.1288]))])"
            ]
          },
          "metadata": {},
          "execution_count": 17
        }
      ]
    },
    {
      "cell_type": "markdown",
      "source": [
        "### Making predictions using torch.inference_mode()¶\n"
      ],
      "metadata": {
        "id": "mZWjVwtAOND6"
      }
    },
    {
      "cell_type": "code",
      "source": [
        "import torch\n",
        "import torch.nn as nn\n",
        "\n",
        "\n",
        "# 1. Define the Linear Regression Model\n",
        "class LinearRegressionModel(nn.Module):\n",
        "    def __init__(self):\n",
        "        super().__init__()\n",
        "        self.weights = nn.Parameter(torch.randn(1, requires_grad=True, dtype=torch.float32))\n",
        "        self.bias = nn.Parameter(torch.randn(1, requires_grad=True, dtype=torch.float32))\n",
        "\n",
        "    def forward(self, x: torch.Tensor) -> torch.Tensor:\n",
        "        return self.weights * x + self.bias\n",
        "\n",
        "# 2. Create some test input data (X_test)\n",
        "# Note: shape should be [n, 1]\n",
        "X_test = torch.arange(0.14, 0.34, 0.02).unsqueeze(1)\n",
        "\n",
        "# 3. Initialize and pretend-train the model\n",
        "model_0 = LinearRegressionModel()\n",
        "\n",
        "# Optional: simulate a trained model by setting weights and bias manually\n",
        "with torch.no_grad():\n",
        "    model_0.weights.fill_(0.7)\n",
        "    model_0.bias.fill_(0.3)\n",
        "\n",
        "# 4. Make predictions using torch.inference_mode()\n",
        "model_0.eval()  # Always set model to eval mode before inference\n",
        "with torch.inference_mode():\n",
        "    y_preds = model_0(X_test)\n",
        "\n",
        "# 5. Show predictions\n",
        "print(\"X_test:\")\n",
        "print(X_test)\n",
        "print(\"Predicted y values:\")\n",
        "print(y_preds)\n",
        "\n",
        "plot_predictions(predictions=y_preds)"
      ],
      "metadata": {
        "colab": {
          "base_uri": "https://localhost:8080/",
          "height": 1000
        },
        "id": "lrXj2uQmOSsu",
        "outputId": "7ca49f43-59d9-45cc-d9c1-db42eb7564bf"
      },
      "execution_count": 18,
      "outputs": [
        {
          "output_type": "stream",
          "name": "stdout",
          "text": [
            "X_test:\n",
            "tensor([[0.1400],\n",
            "        [0.1600],\n",
            "        [0.1800],\n",
            "        [0.2000],\n",
            "        [0.2200],\n",
            "        [0.2400],\n",
            "        [0.2600],\n",
            "        [0.2800],\n",
            "        [0.3000],\n",
            "        [0.3200]])\n",
            "Predicted y values:\n",
            "tensor([[0.3980],\n",
            "        [0.4120],\n",
            "        [0.4260],\n",
            "        [0.4400],\n",
            "        [0.4540],\n",
            "        [0.4680],\n",
            "        [0.4820],\n",
            "        [0.4960],\n",
            "        [0.5100],\n",
            "        [0.5240]])\n"
          ]
        },
        {
          "output_type": "error",
          "ename": "ValueError",
          "evalue": "x and y must be the same size",
          "traceback": [
            "\u001b[0;31m---------------------------------------------------------------------------\u001b[0m",
            "\u001b[0;31mValueError\u001b[0m                                Traceback (most recent call last)",
            "\u001b[0;32m/tmp/ipython-input-18-1740754232.py\u001b[0m in \u001b[0;36m<cell line: 0>\u001b[0;34m()\u001b[0m\n\u001b[1;32m     36\u001b[0m \u001b[0mprint\u001b[0m\u001b[0;34m(\u001b[0m\u001b[0my_preds\u001b[0m\u001b[0;34m)\u001b[0m\u001b[0;34m\u001b[0m\u001b[0;34m\u001b[0m\u001b[0m\n\u001b[1;32m     37\u001b[0m \u001b[0;34m\u001b[0m\u001b[0m\n\u001b[0;32m---> 38\u001b[0;31m \u001b[0mplot_predictions\u001b[0m\u001b[0;34m(\u001b[0m\u001b[0mpredictions\u001b[0m\u001b[0;34m=\u001b[0m\u001b[0my_preds\u001b[0m\u001b[0;34m)\u001b[0m\u001b[0;34m\u001b[0m\u001b[0;34m\u001b[0m\u001b[0m\n\u001b[0m",
            "\u001b[0;32m/tmp/ipython-input-12-2226815985.py\u001b[0m in \u001b[0;36mplot_predictions\u001b[0;34m(train_data, train_labels, test_data, test_labels, predictions)\u001b[0m\n\u001b[1;32m     13\u001b[0m \u001b[0;34m\u001b[0m\u001b[0m\n\u001b[1;32m     14\u001b[0m   \u001b[0;31m# Plot test data in green\u001b[0m\u001b[0;34m\u001b[0m\u001b[0;34m\u001b[0m\u001b[0m\n\u001b[0;32m---> 15\u001b[0;31m   \u001b[0mplt\u001b[0m\u001b[0;34m.\u001b[0m\u001b[0mscatter\u001b[0m\u001b[0;34m(\u001b[0m\u001b[0mtest_data\u001b[0m\u001b[0;34m,\u001b[0m \u001b[0mtest_labels\u001b[0m\u001b[0;34m,\u001b[0m \u001b[0mc\u001b[0m\u001b[0;34m=\u001b[0m\u001b[0;34m\"g\"\u001b[0m\u001b[0;34m,\u001b[0m \u001b[0ms\u001b[0m\u001b[0;34m=\u001b[0m\u001b[0;36m4\u001b[0m\u001b[0;34m,\u001b[0m \u001b[0mlabel\u001b[0m\u001b[0;34m=\u001b[0m\u001b[0;34m\"Testing data\"\u001b[0m\u001b[0;34m)\u001b[0m\u001b[0;34m\u001b[0m\u001b[0;34m\u001b[0m\u001b[0m\n\u001b[0m\u001b[1;32m     16\u001b[0m \u001b[0;34m\u001b[0m\u001b[0m\n\u001b[1;32m     17\u001b[0m   \u001b[0;32mif\u001b[0m \u001b[0mpredictions\u001b[0m \u001b[0;32mis\u001b[0m \u001b[0;32mnot\u001b[0m \u001b[0;32mNone\u001b[0m\u001b[0;34m:\u001b[0m\u001b[0;34m\u001b[0m\u001b[0;34m\u001b[0m\u001b[0m\n",
            "\u001b[0;32m/usr/local/lib/python3.11/dist-packages/matplotlib/_api/deprecation.py\u001b[0m in \u001b[0;36mwrapper\u001b[0;34m(*args, **kwargs)\u001b[0m\n\u001b[1;32m    451\u001b[0m                 \u001b[0;34m\"parameter will become keyword-only in %(removal)s.\"\u001b[0m\u001b[0;34m,\u001b[0m\u001b[0;34m\u001b[0m\u001b[0;34m\u001b[0m\u001b[0m\n\u001b[1;32m    452\u001b[0m                 name=name, obj_type=f\"parameter of {func.__name__}()\")\n\u001b[0;32m--> 453\u001b[0;31m         \u001b[0;32mreturn\u001b[0m \u001b[0mfunc\u001b[0m\u001b[0;34m(\u001b[0m\u001b[0;34m*\u001b[0m\u001b[0margs\u001b[0m\u001b[0;34m,\u001b[0m \u001b[0;34m**\u001b[0m\u001b[0mkwargs\u001b[0m\u001b[0;34m)\u001b[0m\u001b[0;34m\u001b[0m\u001b[0;34m\u001b[0m\u001b[0m\n\u001b[0m\u001b[1;32m    454\u001b[0m \u001b[0;34m\u001b[0m\u001b[0m\n\u001b[1;32m    455\u001b[0m     \u001b[0;31m# Don't modify *func*'s signature, as boilerplate.py needs it.\u001b[0m\u001b[0;34m\u001b[0m\u001b[0;34m\u001b[0m\u001b[0m\n",
            "\u001b[0;32m/usr/local/lib/python3.11/dist-packages/matplotlib/pyplot.py\u001b[0m in \u001b[0;36mscatter\u001b[0;34m(x, y, s, c, marker, cmap, norm, vmin, vmax, alpha, linewidths, edgecolors, colorizer, plotnonfinite, data, **kwargs)\u001b[0m\n\u001b[1;32m   3937\u001b[0m     \u001b[0;34m**\u001b[0m\u001b[0mkwargs\u001b[0m\u001b[0;34m,\u001b[0m\u001b[0;34m\u001b[0m\u001b[0;34m\u001b[0m\u001b[0m\n\u001b[1;32m   3938\u001b[0m ) -> PathCollection:\n\u001b[0;32m-> 3939\u001b[0;31m     __ret = gca().scatter(\n\u001b[0m\u001b[1;32m   3940\u001b[0m         \u001b[0mx\u001b[0m\u001b[0;34m,\u001b[0m\u001b[0;34m\u001b[0m\u001b[0;34m\u001b[0m\u001b[0m\n\u001b[1;32m   3941\u001b[0m         \u001b[0my\u001b[0m\u001b[0;34m,\u001b[0m\u001b[0;34m\u001b[0m\u001b[0;34m\u001b[0m\u001b[0m\n",
            "\u001b[0;32m/usr/local/lib/python3.11/dist-packages/matplotlib/_api/deprecation.py\u001b[0m in \u001b[0;36mwrapper\u001b[0;34m(*args, **kwargs)\u001b[0m\n\u001b[1;32m    451\u001b[0m                 \u001b[0;34m\"parameter will become keyword-only in %(removal)s.\"\u001b[0m\u001b[0;34m,\u001b[0m\u001b[0;34m\u001b[0m\u001b[0;34m\u001b[0m\u001b[0m\n\u001b[1;32m    452\u001b[0m                 name=name, obj_type=f\"parameter of {func.__name__}()\")\n\u001b[0;32m--> 453\u001b[0;31m         \u001b[0;32mreturn\u001b[0m \u001b[0mfunc\u001b[0m\u001b[0;34m(\u001b[0m\u001b[0;34m*\u001b[0m\u001b[0margs\u001b[0m\u001b[0;34m,\u001b[0m \u001b[0;34m**\u001b[0m\u001b[0mkwargs\u001b[0m\u001b[0;34m)\u001b[0m\u001b[0;34m\u001b[0m\u001b[0;34m\u001b[0m\u001b[0m\n\u001b[0m\u001b[1;32m    454\u001b[0m \u001b[0;34m\u001b[0m\u001b[0m\n\u001b[1;32m    455\u001b[0m     \u001b[0;31m# Don't modify *func*'s signature, as boilerplate.py needs it.\u001b[0m\u001b[0;34m\u001b[0m\u001b[0;34m\u001b[0m\u001b[0m\n",
            "\u001b[0;32m/usr/local/lib/python3.11/dist-packages/matplotlib/__init__.py\u001b[0m in \u001b[0;36minner\u001b[0;34m(ax, data, *args, **kwargs)\u001b[0m\n\u001b[1;32m   1519\u001b[0m     \u001b[0;32mdef\u001b[0m \u001b[0minner\u001b[0m\u001b[0;34m(\u001b[0m\u001b[0max\u001b[0m\u001b[0;34m,\u001b[0m \u001b[0;34m*\u001b[0m\u001b[0margs\u001b[0m\u001b[0;34m,\u001b[0m \u001b[0mdata\u001b[0m\u001b[0;34m=\u001b[0m\u001b[0;32mNone\u001b[0m\u001b[0;34m,\u001b[0m \u001b[0;34m**\u001b[0m\u001b[0mkwargs\u001b[0m\u001b[0;34m)\u001b[0m\u001b[0;34m:\u001b[0m\u001b[0;34m\u001b[0m\u001b[0;34m\u001b[0m\u001b[0m\n\u001b[1;32m   1520\u001b[0m         \u001b[0;32mif\u001b[0m \u001b[0mdata\u001b[0m \u001b[0;32mis\u001b[0m \u001b[0;32mNone\u001b[0m\u001b[0;34m:\u001b[0m\u001b[0;34m\u001b[0m\u001b[0;34m\u001b[0m\u001b[0m\n\u001b[0;32m-> 1521\u001b[0;31m             return func(\n\u001b[0m\u001b[1;32m   1522\u001b[0m                 \u001b[0max\u001b[0m\u001b[0;34m,\u001b[0m\u001b[0;34m\u001b[0m\u001b[0;34m\u001b[0m\u001b[0m\n\u001b[1;32m   1523\u001b[0m                 \u001b[0;34m*\u001b[0m\u001b[0mmap\u001b[0m\u001b[0;34m(\u001b[0m\u001b[0mcbook\u001b[0m\u001b[0;34m.\u001b[0m\u001b[0msanitize_sequence\u001b[0m\u001b[0;34m,\u001b[0m \u001b[0margs\u001b[0m\u001b[0;34m)\u001b[0m\u001b[0;34m,\u001b[0m\u001b[0;34m\u001b[0m\u001b[0;34m\u001b[0m\u001b[0m\n",
            "\u001b[0;32m/usr/local/lib/python3.11/dist-packages/matplotlib/axes/_axes.py\u001b[0m in \u001b[0;36mscatter\u001b[0;34m(self, x, y, s, c, marker, cmap, norm, vmin, vmax, alpha, linewidths, edgecolors, colorizer, plotnonfinite, **kwargs)\u001b[0m\n\u001b[1;32m   4898\u001b[0m         \u001b[0my\u001b[0m \u001b[0;34m=\u001b[0m \u001b[0mnp\u001b[0m\u001b[0;34m.\u001b[0m\u001b[0mma\u001b[0m\u001b[0;34m.\u001b[0m\u001b[0mravel\u001b[0m\u001b[0;34m(\u001b[0m\u001b[0my\u001b[0m\u001b[0;34m)\u001b[0m\u001b[0;34m\u001b[0m\u001b[0;34m\u001b[0m\u001b[0m\n\u001b[1;32m   4899\u001b[0m         \u001b[0;32mif\u001b[0m \u001b[0mx\u001b[0m\u001b[0;34m.\u001b[0m\u001b[0msize\u001b[0m \u001b[0;34m!=\u001b[0m \u001b[0my\u001b[0m\u001b[0;34m.\u001b[0m\u001b[0msize\u001b[0m\u001b[0;34m:\u001b[0m\u001b[0;34m\u001b[0m\u001b[0;34m\u001b[0m\u001b[0m\n\u001b[0;32m-> 4900\u001b[0;31m             \u001b[0;32mraise\u001b[0m \u001b[0mValueError\u001b[0m\u001b[0;34m(\u001b[0m\u001b[0;34m\"x and y must be the same size\"\u001b[0m\u001b[0;34m)\u001b[0m\u001b[0;34m\u001b[0m\u001b[0;34m\u001b[0m\u001b[0m\n\u001b[0m\u001b[1;32m   4901\u001b[0m \u001b[0;34m\u001b[0m\u001b[0m\n\u001b[1;32m   4902\u001b[0m         \u001b[0;32mif\u001b[0m \u001b[0ms\u001b[0m \u001b[0;32mis\u001b[0m \u001b[0;32mNone\u001b[0m\u001b[0;34m:\u001b[0m\u001b[0;34m\u001b[0m\u001b[0;34m\u001b[0m\u001b[0m\n",
            "\u001b[0;31mValueError\u001b[0m: x and y must be the same size"
          ]
        },
        {
          "output_type": "display_data",
          "data": {
            "text/plain": [
              "<Figure size 1000x700 with 1 Axes>"
            ],
            "image/png": "[encoded data removed]"
          },
          "metadata": {}
        }
      ]
    },
    {
      "cell_type": "code",
      "source": [
        "import torch\n",
        "import torch.nn as nn\n",
        "import matplotlib.pyplot as plt  # Needed for plotting\n",
        "\n",
        "# 1. Define the Linear Regression Model\n",
        "class LinearRegressionModel(nn.Module):\n",
        "    def __init__(self):\n",
        "        super().__init__()\n",
        "        self.weights = nn.Parameter(torch.randn(1, requires_grad=True, dtype=torch.float32))\n",
        "        self.bias = nn.Parameter(torch.randn(1, requires_grad=True, dtype=torch.float32))\n",
        "\n",
        "    def forward(self, x: torch.Tensor) -> torch.Tensor:\n",
        "        return self.weights * x + self.bias\n",
        "\n",
        "# 2. Create some test input data (X_test)\n",
        "X_test = torch.arange(0.14, 0.34, 0.02).unsqueeze(1)\n",
        "\n",
        "# 3. Initialize and pretend-train the model\n",
        "model_0 = LinearRegressionModel()\n",
        "\n",
        "# Simulate training by setting weights manually\n",
        "with torch.no_grad():\n",
        "    model_0.weights.fill_(0.7)\n",
        "    model_0.bias.fill_(0.3)\n",
        "\n",
        "# 4. Predict using inference mode\n",
        "model_0.eval()\n",
        "with torch.inference_mode():\n",
        "    y_preds = model_0(X_test)\n",
        "\n",
        "# 5. Define the plotting function\n",
        "def plot_predictions(test_data, predictions):\n",
        "    plt.figure(figsize=(8, 5))\n",
        "    plt.scatter(test_data, predictions, color=\"red\", label=\"Predictions\")\n",
        "    plt.title(\"Linear Regression Predictions\")\n",
        "    plt.xlabel(\"X values\")\n",
        "    plt.ylabel(\"Predicted y values\")\n",
        "    plt.legend()\n",
        "    plt.grid(True)\n",
        "    plt.show()\n",
        "\n",
        "# 6. Show predictions and plot\n",
        "print(\"X_test:\\n\", X_test)\n",
        "print(\"Predicted y values:\\n\", y_preds)\n",
        "plot_predictions(X_test, y_preds)\n",
        "plot_predictions(predictions=y_preds)"
      ],
      "metadata": {
        "colab": {
          "base_uri": "https://localhost:8080/",
          "height": 986
        },
        "id": "vgOtHfQDSeUK",
        "outputId": "2e97758a-5e3e-4f61-fbf7-e9168b842e76"
      },
      "execution_count": 19,
      "outputs": [
        {
          "output_type": "stream",
          "name": "stdout",
          "text": [
            "X_test:\n",
            " tensor([[0.1400],\n",
            "        [0.1600],\n",
            "        [0.1800],\n",
            "        [0.2000],\n",
            "        [0.2200],\n",
            "        [0.2400],\n",
            "        [0.2600],\n",
            "        [0.2800],\n",
            "        [0.3000],\n",
            "        [0.3200]])\n",
            "Predicted y values:\n",
            " tensor([[0.3980],\n",
            "        [0.4120],\n",
            "        [0.4260],\n",
            "        [0.4400],\n",
            "        [0.4540],\n",
            "        [0.4680],\n",
            "        [0.4820],\n",
            "        [0.4960],\n",
            "        [0.5100],\n",
            "        [0.5240]])\n"
          ]
        },
        {
          "output_type": "display_data",
          "data": {
            "text/plain": [
              "<Figure size 800x500 with 1 Axes>"
            ],
            "image/png": "[encoded data removed]"
          },
          "metadata": {}
        },
        {
          "output_type": "error",
          "ename": "TypeError",
          "evalue": "plot_predictions() missing 1 required positional argument: 'test_data'",
          "traceback": [
            "\u001b[0;31m---------------------------------------------------------------------------\u001b[0m",
            "\u001b[0;31mTypeError\u001b[0m                                 Traceback (most recent call last)",
            "\u001b[0;32m/tmp/ipython-input-19-217240260.py\u001b[0m in \u001b[0;36m<cell line: 0>\u001b[0;34m()\u001b[0m\n\u001b[1;32m     44\u001b[0m \u001b[0mprint\u001b[0m\u001b[0;34m(\u001b[0m\u001b[0;34m\"Predicted y values:\\n\"\u001b[0m\u001b[0;34m,\u001b[0m \u001b[0my_preds\u001b[0m\u001b[0;34m)\u001b[0m\u001b[0;34m\u001b[0m\u001b[0;34m\u001b[0m\u001b[0m\n\u001b[1;32m     45\u001b[0m \u001b[0mplot_predictions\u001b[0m\u001b[0;34m(\u001b[0m\u001b[0mX_test\u001b[0m\u001b[0;34m,\u001b[0m \u001b[0my_preds\u001b[0m\u001b[0;34m)\u001b[0m\u001b[0;34m\u001b[0m\u001b[0;34m\u001b[0m\u001b[0m\n\u001b[0;32m---> 46\u001b[0;31m \u001b[0mplot_predictions\u001b[0m\u001b[0;34m(\u001b[0m\u001b[0mpredictions\u001b[0m\u001b[0;34m=\u001b[0m\u001b[0my_preds\u001b[0m\u001b[0;34m)\u001b[0m\u001b[0;34m\u001b[0m\u001b[0;34m\u001b[0m\u001b[0m\n\u001b[0m",
            "\u001b[0;31mTypeError\u001b[0m: plot_predictions() missing 1 required positional argument: 'test_data'"
          ]
        }
      ]
    },
    {
      "cell_type": "markdown",
      "source": [
        "### 3. Train model\n",
        "**Loss function:** A function to measure how wrong your model's predictions are to the ideal outputs, lower is better.\n",
        "\n",
        "**Optimizer:** Takes into account the loss of a model and adjusts the model's parameters (e.g. weight & bias in our case) to improve the loss function -"
      ],
      "metadata": {
        "id": "RhcbMb2UTLf8"
      }
    },
    {
      "cell_type": "markdown",
      "source": [],
      "metadata": {
        "id": "bDaxjZO3TLYY"
      }
    },
    {
      "cell_type": "code",
      "source": [
        "loss_fn = nn.L1Loss()\n",
        "optimizer = torch.optim.SGD(params=model_0.parameters(), lr = 0.01)"
      ],
      "metadata": {
        "id": "IHW_3Owsoa3Y"
      },
      "execution_count": 20,
      "outputs": []
    },
    {
      "cell_type": "code",
      "source": [
        "list(model_0.parameters())\n",
        "\n",
        "\n"
      ],
      "metadata": {
        "colab": {
          "base_uri": "https://localhost:8080/"
        },
        "id": "L6rCffGPVlQn",
        "outputId": "ead39886-2e80-4e63-ddbd-e8d3c84bd372"
      },
      "execution_count": 21,
      "outputs": [
        {
          "output_type": "execute_result",
          "data": {
            "text/plain": [
              "[Parameter containing:\n",
              " tensor([0.7000], requires_grad=True),\n",
              " Parameter containing:\n",
              " tensor([0.3000], requires_grad=True)]"
            ]
          },
          "metadata": {},
          "execution_count": 21
        }
      ]
    },
    {
      "cell_type": "code",
      "source": [
        "\n",
        "# Check out our model's parameters (a parameter is a value that the model sets itself)\n",
        "model_0.state_dict()\n"
      ],
      "metadata": {
        "colab": {
          "base_uri": "https://localhost:8080/"
        },
        "id": "ZPA-4TdSV1Dl",
        "outputId": "057460ca-2fa6-466a-b3e1-c3688190d9e0"
      },
      "execution_count": 22,
      "outputs": [
        {
          "output_type": "execute_result",
          "data": {
            "text/plain": [
              "OrderedDict([('weights', tensor([0.7000])), ('bias', tensor([0.3000]))])"
            ]
          },
          "metadata": {},
          "execution_count": 22
        }
      ]
    },
    {
      "cell_type": "code",
      "source": [
        "\n",
        "# Setup a loss function\n",
        "loss_fn = nn.L1Loss()\n",
        "\n",
        "# Setup an optimizer (stochastic gradient descent)\n",
        "optimizer = torch.optim.SGD(params=model_0.parameters(), # we want to optimize the parameters present in our model\n",
        "                            lr=0.01) # lr = learning rate = possibly the most important hyperparameter you can set\n"
      ],
      "metadata": {
        "id": "fzXgZHwGV5P1"
      },
      "execution_count": 23,
      "outputs": []
    },
    {
      "cell_type": "markdown",
      "source": [
        "### **Building a training loop (and a testing loop) in PyTorch**\n",
        "\n",
        "A couple of things we need in a training loop: 0. Loop through the data and do...\n",
        "\n",
        "Forward pass (this involves data moving through our model's forward()\n",
        "\n",
        " functions) to make predictions on data - also called forward propagation\n",
        "\n",
        "Calculate the loss (compare forward pass predictions to ground truth labels)\n",
        "Optimizer zero grad\n",
        "\n",
        "Loss backward - move backwards through the network to calculate the gradients of each of the parameters of our model with respect to the loss (backpropagation\n",
        "- https://www.youtube.com/watch?v=tIeHLnjs5U8)\n",
        "\n",
        "Optimizer step - use the optimizer to adjust our model's parameters to try and improve the loss (gradient descent - https://youtu.be/IHZwWFHWa-w)"
      ],
      "metadata": {
        "id": "c9CXDZhuX7SJ"
      }
    },
    {
      "cell_type": "markdown",
      "source": [
        "### **What is an Epoch in Machine Learning?**\n",
        "An epoch is one complete pass through the entire training dataset by the model.\n",
        "\n",
        " Imagine This:\n",
        "\n",
        "If you have a dataset with 100 samples, and you feed all 100 samples once through your model to update its weights — that’s 1 epoch.\n",
        "\n",
        "If you repeat this process 5 times, you trained for 5 epochs.\n",
        "\n",
        "The model learns a bit more each time it sees the data.\n",
        "\n"
      ],
      "metadata": {
        "id": "ueofzWnlZshf"
      }
    },
    {
      "cell_type": "code",
      "source": [
        "import torch\n",
        "import torch.nn as nn\n",
        "torch.manual_seed(42)\n",
        "\n",
        "# An epoch is one loop through the data... (this is a hyperparameter because we've set it ourselves)\n",
        "epochs = 200\n",
        "\n",
        "# Track different values\n",
        "epoch_count = []\n",
        "loss_values = []\n",
        "test_loss_values = []\n",
        "\n",
        "### Training\n",
        "# 0. Loop through the data\n",
        "for epoch in range(epochs):\n",
        "  # Set the model to training mode\n",
        "  model_0.train() # train mode in PyTorch sets all parameters that require gradients to require gradients\n",
        "\n",
        "  # 1. Forward pass\n",
        "  y_pred = model_0(X_train)\n",
        "\n",
        "  # 2. Calculate the loss\n",
        "  loss = loss_fn(y_pred, y_train)\n",
        "\n",
        "  # 3. Optimizer zero grad\n",
        "  optimizer.zero_grad()\n",
        "\n",
        "  # 4. Perform backpropagation on the loss with respect to the parameters of the model (calculate gradients of each parameter)\n",
        "  loss.backward()\n",
        "\n",
        "  # 5. Step the optimizer (perform gradient descent)\n",
        "  optimizer.step() # by default how the optimizer changes will accumulate through the loop so... we have to zero them above in step 3 for the next iteration of the loop\n",
        "\n",
        "  ### Testing\n",
        "  model_0.eval() # turns off different settings in the model not needed for evaluation/testing (dropout/batch norm layers)\n",
        "  with torch.inference_mode(): # turns off gradient tracking & a couple more things behind the scenes - https://twitter.com/PyTorch/status/1437838231505096708?s=20&t=aftDZicoiUGiklEP179x7A\n",
        "  # with torch.no_grad(): # you may also see torch.no_grad() in older PyTorch code\n",
        "    # 1. Do the forward pass\n",
        "    test_pred = model_0(X_test)\n",
        "\n",
        "    # 2. Calculate the loss\n",
        "    test_loss = loss_fn(test_pred, y_test)\n",
        "\n",
        "  # Print out what's happenin'\n",
        "  if epoch % 10 == 0:\n",
        "    epoch_count.append(epoch)\n",
        "    loss_values.append(loss)\n",
        "    test_loss_values.append(test_loss)\n",
        "    print(f\"Epoch: {epoch} | Loss: {loss} | Test loss: {test_loss}\")\n",
        "    # Print out model state_dict()\n",
        "    print(model_0.state_dict())\n"
      ],
      "metadata": {
        "colab": {
          "base_uri": "https://localhost:8080/"
        },
        "id": "ZECKLX4AYFT8",
        "outputId": "93b5f2a5-6b3e-46ea-c178-081d91c3e49e"
      },
      "execution_count": 36,
      "outputs": [
        {
          "output_type": "stream",
          "name": "stdout",
          "text": [
            "Epoch: 0 | Loss: 0.002354297786951065 | Test loss: 0.01093449629843235\n",
            "OrderedDict([('weights', tensor([0.4901])), ('bias', tensor([0.3829]))])\n",
            "Epoch: 10 | Loss: 0.00230834330432117 | Test loss: 0.010597677901387215\n",
            "OrderedDict([('weights', tensor([0.4922])), ('bias', tensor([0.3827]))])\n",
            "Epoch: 20 | Loss: 0.0022643643897026777 | Test loss: 0.010297363623976707\n",
            "OrderedDict([('weights', tensor([0.4943])), ('bias', tensor([0.3823]))])\n",
            "Epoch: 30 | Loss: 0.0022218995727598667 | Test loss: 0.010026112198829651\n",
            "OrderedDict([('weights', tensor([0.4963])), ('bias', tensor([0.3819]))])\n",
            "Epoch: 40 | Loss: 0.0021806536242365837 | Test loss: 0.00977812148630619\n",
            "OrderedDict([('weights', tensor([0.4983])), ('bias', tensor([0.3814]))])\n",
            "Epoch: 50 | Loss: 0.0021404381841421127 | Test loss: 0.009548927657306194\n",
            "OrderedDict([('weights', tensor([0.5002])), ('bias', tensor([0.3808]))])\n",
            "Epoch: 60 | Loss: 0.0021011298522353172 | Test loss: 0.009335020557045937\n",
            "OrderedDict([('weights', tensor([0.5021])), ('bias', tensor([0.3802]))])\n",
            "Epoch: 70 | Loss: 0.0020626469049602747 | Test loss: 0.009133709594607353\n",
            "OrderedDict([('weights', tensor([0.5039])), ('bias', tensor([0.3796]))])\n",
            "Epoch: 80 | Loss: 0.0020249353256076574 | Test loss: 0.008942840620875359\n",
            "OrderedDict([('weights', tensor([0.5058])), ('bias', tensor([0.3790]))])\n",
            "Epoch: 90 | Loss: 0.0019879546016454697 | Test loss: 0.008760771714150906\n",
            "OrderedDict([('weights', tensor([0.5076])), ('bias', tensor([0.3783]))])\n",
            "Epoch: 100 | Loss: 0.001951672718860209 | Test loss: 0.00858613196760416\n",
            "OrderedDict([('weights', tensor([0.5094])), ('bias', tensor([0.3777]))])\n",
            "Epoch: 110 | Loss: 0.0019160691881552339 | Test loss: 0.008417924866080284\n",
            "OrderedDict([('weights', tensor([0.5111])), ('bias', tensor([0.3770]))])\n",
            "Epoch: 120 | Loss: 0.0018811256159096956 | Test loss: 0.008255327120423317\n",
            "OrderedDict([('weights', tensor([0.5129])), ('bias', tensor([0.3763]))])\n",
            "Epoch: 130 | Loss: 0.0018468251219019294 | Test loss: 0.00809767097234726\n",
            "OrderedDict([('weights', tensor([0.5146])), ('bias', tensor([0.3757]))])\n",
            "Epoch: 140 | Loss: 0.0018131484976038337 | Test loss: 0.007944402284920216\n",
            "OrderedDict([('weights', tensor([0.5163])), ('bias', tensor([0.3750]))])\n",
            "Epoch: 150 | Loss: 0.0017800923669710755 | Test loss: 0.007795183919370174\n",
            "OrderedDict([('weights', tensor([0.5180])), ('bias', tensor([0.3743]))])\n",
            "Epoch: 160 | Loss: 0.0017476414795964956 | Test loss: 0.007649636827409267\n",
            "OrderedDict([('weights', tensor([0.5197])), ('bias', tensor([0.3737]))])\n",
            "Epoch: 170 | Loss: 0.0017157827969640493 | Test loss: 0.007507484406232834\n",
            "OrderedDict([('weights', tensor([0.5213])), ('bias', tensor([0.3730]))])\n",
            "Epoch: 180 | Loss: 0.001684506074525416 | Test loss: 0.007368524558842182\n",
            "OrderedDict([('weights', tensor([0.5230])), ('bias', tensor([0.3723]))])\n",
            "Epoch: 190 | Loss: 0.001653800019994378 | Test loss: 0.0072325607761740685\n",
            "OrderedDict([('weights', tensor([0.5246])), ('bias', tensor([0.3717]))])\n"
          ]
        }
      ]
    },
    {
      "cell_type": "code",
      "source": [
        "import torch\n",
        "import torch.nn as nn\n",
        "import matplotlib.pyplot as plt\n",
        "\n",
        "# 1. Prepare data\n",
        "weight = 0.7\n",
        "bias = 0.3\n",
        "X = torch.arange(0, 1, 0.02).unsqueeze(1)\n",
        "y = weight * X + bias\n",
        "\n",
        "# Split into training and test sets\n",
        "train_split = int(0.8 * len(X))\n",
        "X_train, X_test = X[:train_split], X[train_split:]\n",
        "y_train, y_test = y[:train_split], y[train_split:]\n",
        "\n",
        "# 2. Define model\n",
        "class LinearRegressionModel(nn.Module):\n",
        "    def __init__(self):\n",
        "        super().__init__()\n",
        "        self.weights = nn.Parameter(torch.randn(1, requires_grad=True, dtype=torch.float32))\n",
        "        self.bias = nn.Parameter(torch.randn(1, requires_grad=True, dtype=torch.float32))\n",
        "\n",
        "    def forward(self, x: torch.Tensor) -> torch.Tensor:\n",
        "        return self.weights * x + self.bias\n",
        "\n",
        "model_0 = LinearRegressionModel()\n",
        "\n",
        "# 3. Loss function and optimizer\n",
        "loss_fn = nn.MSELoss()\n",
        "optimizer = torch.optim.SGD(model_0.parameters(), lr=0.01)\n",
        "\n",
        "# 4. Training loop\n",
        "torch.manual_seed(42)\n",
        "epochs = 200\n",
        "epoch_count = []\n",
        "loss_values = []\n",
        "test_loss_values = []\n",
        "\n",
        "for epoch in range(epochs):\n",
        "    model_0.train()\n",
        "\n",
        "    # Forward pass\n",
        "    y_pred = model_0(X_train)\n",
        "    loss = loss_fn(y_pred, y_train)\n",
        "\n",
        "    # Backpropagation\n",
        "    optimizer.zero_grad()\n",
        "    loss.backward()\n",
        "    optimizer.step()\n",
        "\n",
        "    # Evaluation\n",
        "    model_0.eval()\n",
        "    with torch.inference_mode():\n",
        "        test_pred = model_0(X_test)\n",
        "        test_loss = loss_fn(test_pred, y_test)\n",
        "\n",
        "    # Logging every 10 epochs\n",
        "    if epoch % 10 == 0:\n",
        "        epoch_count.append(epoch)\n",
        "        loss_values.append(loss.item())\n",
        "        test_loss_values.append(test_loss.item())\n",
        "        print(f\"Epoch: {epoch} | Loss: {loss.item():.4f} | Test loss: {test_loss.item():.4f}\")\n",
        "        print(\"Model state_dict:\", model_0.state_dict())\n"
      ],
      "metadata": {
        "colab": {
          "base_uri": "https://localhost:8080/"
        },
        "id": "-Tepx78MbN59",
        "outputId": "553e3e4f-bbc3-4521-d3d1-1f10f701a488"
      },
      "execution_count": 25,
      "outputs": [
        {
          "output_type": "stream",
          "name": "stdout",
          "text": [
            "Epoch: 0 | Loss: 0.1049 | Test loss: 0.2364\n",
            "Model state_dict: OrderedDict([('weights', tensor([0.3395])), ('bias', tensor([0.1351]))])\n",
            "Epoch: 10 | Loss: 0.0668 | Test loss: 0.1671\n",
            "Model state_dict: OrderedDict([('weights', tensor([0.3647])), ('bias', tensor([0.1901]))])\n",
            "Epoch: 20 | Loss: 0.0430 | Test loss: 0.1207\n",
            "Model state_dict: OrderedDict([('weights', tensor([0.3851])), ('bias', tensor([0.2334]))])\n",
            "Epoch: 30 | Loss: 0.0281 | Test loss: 0.0891\n",
            "Model state_dict: OrderedDict([('weights', tensor([0.4016])), ('bias', tensor([0.2675]))])\n",
            "Epoch: 40 | Loss: 0.0187 | Test loss: 0.0675\n",
            "Model state_dict: OrderedDict([('weights', tensor([0.4152])), ('bias', tensor([0.2943]))])\n",
            "Epoch: 50 | Loss: 0.0128 | Test loss: 0.0524\n",
            "Model state_dict: OrderedDict([('weights', tensor([0.4263])), ('bias', tensor([0.3152]))])\n",
            "Epoch: 60 | Loss: 0.0091 | Test loss: 0.0417\n",
            "Model state_dict: OrderedDict([('weights', tensor([0.4356])), ('bias', tensor([0.3317]))])\n",
            "Epoch: 70 | Loss: 0.0068 | Test loss: 0.0340\n",
            "Model state_dict: OrderedDict([('weights', tensor([0.4434])), ('bias', tensor([0.3445]))])\n",
            "Epoch: 80 | Loss: 0.0053 | Test loss: 0.0285\n",
            "Model state_dict: OrderedDict([('weights', tensor([0.4500])), ('bias', tensor([0.3544]))])\n",
            "Epoch: 90 | Loss: 0.0044 | Test loss: 0.0243\n",
            "Model state_dict: OrderedDict([('weights', tensor([0.4556])), ('bias', tensor([0.3621]))])\n",
            "Epoch: 100 | Loss: 0.0038 | Test loss: 0.0213\n",
            "Model state_dict: OrderedDict([('weights', tensor([0.4605])), ('bias', tensor([0.3680]))])\n",
            "Epoch: 110 | Loss: 0.0034 | Test loss: 0.0189\n",
            "Model state_dict: OrderedDict([('weights', tensor([0.4648])), ('bias', tensor([0.3725]))])\n",
            "Epoch: 120 | Loss: 0.0031 | Test loss: 0.0171\n",
            "Model state_dict: OrderedDict([('weights', tensor([0.4686])), ('bias', tensor([0.3759]))])\n",
            "Epoch: 130 | Loss: 0.0029 | Test loss: 0.0157\n",
            "Model state_dict: OrderedDict([('weights', tensor([0.4720])), ('bias', tensor([0.3784]))])\n",
            "Epoch: 140 | Loss: 0.0028 | Test loss: 0.0145\n",
            "Model state_dict: OrderedDict([('weights', tensor([0.4751])), ('bias', tensor([0.3802]))])\n",
            "Epoch: 150 | Loss: 0.0027 | Test loss: 0.0136\n",
            "Model state_dict: OrderedDict([('weights', tensor([0.4780])), ('bias', tensor([0.3815]))])\n",
            "Epoch: 160 | Loss: 0.0026 | Test loss: 0.0129\n",
            "Model state_dict: OrderedDict([('weights', tensor([0.4807])), ('bias', tensor([0.3823]))])\n",
            "Epoch: 170 | Loss: 0.0025 | Test loss: 0.0123\n",
            "Model state_dict: OrderedDict([('weights', tensor([0.4832])), ('bias', tensor([0.3828]))])\n",
            "Epoch: 180 | Loss: 0.0025 | Test loss: 0.0118\n",
            "Model state_dict: OrderedDict([('weights', tensor([0.4856])), ('bias', tensor([0.3831]))])\n",
            "Epoch: 190 | Loss: 0.0024 | Test loss: 0.0113\n",
            "Model state_dict: OrderedDict([('weights', tensor([0.4879])), ('bias', tensor([0.3831]))])\n"
          ]
        }
      ]
    },
    {
      "cell_type": "code",
      "source": [
        "import numpy as np\n",
        "np.array(torch.tensor(loss_values).numpy()), test_loss_values"
      ],
      "metadata": {
        "colab": {
          "base_uri": "https://localhost:8080/"
        },
        "id": "bBzp4bvnbaUJ",
        "outputId": "f61aa6e9-d774-468e-fea1-b202a3e708f4"
      },
      "execution_count": 26,
      "outputs": [
        {
          "output_type": "execute_result",
          "data": {
            "text/plain": [
              "(array([0.10493002, 0.06683928, 0.04299222, 0.0280547 , 0.01869034,\n",
              "        0.01281228, 0.00911521, 0.00678269, 0.00530403, 0.0043598 ,\n",
              "        0.00375021, 0.00335027, 0.0030818 , 0.0028959 , 0.00276197,\n",
              "        0.00266087, 0.00258063, 0.00251373, 0.00245549, 0.00240296],\n",
              "       dtype=float32),\n",
              " [0.23639337718486786,\n",
              "  0.16711154580116272,\n",
              "  0.12065689265727997,\n",
              "  0.08913629502058029,\n",
              "  0.06747110188007355,\n",
              "  0.05237375572323799,\n",
              "  0.041701000183820724,\n",
              "  0.03404407948255539,\n",
              "  0.02846846543252468,\n",
              "  0.024347715079784393,\n",
              "  0.021257279440760612,\n",
              "  0.018905792385339737,\n",
              "  0.017090920358896255,\n",
              "  0.015670273452997208,\n",
              "  0.014542418532073498,\n",
              "  0.013634162954986095,\n",
              "  0.012892169877886772,\n",
              "  0.012277057394385338,\n",
              "  0.011759518645703793,\n",
              "  0.011317544616758823])"
            ]
          },
          "metadata": {},
          "execution_count": 26
        }
      ]
    },
    {
      "cell_type": "code",
      "source": [
        "# Plot the loss curves\n",
        "plt.plot(epoch_count, np.array(torch.tensor(loss_values).numpy()), label=\"Train loss\")\n",
        "plt.plot(epoch_count, test_loss_values, label=\"Test loss\")\n",
        "plt.title(\"Training and test loss curves\")\n",
        "plt.ylabel(\"Loss\")\n",
        "plt.xlabel(\"Epochs\")\n",
        "plt.legend();"
      ],
      "metadata": {
        "colab": {
          "base_uri": "https://localhost:8080/",
          "height": 472
        },
        "id": "04aVz8bpbehv",
        "outputId": "4ba74216-bdca-464b-9119-e510d176d1e6"
      },
      "execution_count": 27,
      "outputs": [
        {
          "output_type": "display_data",
          "data": {
            "text/plain": [
              "<Figure size 640x480 with 1 Axes>"
            ],
            "image/png": "[encoded data removed]"
          },
          "metadata": {}
        }
      ]
    },
    {
      "cell_type": "code",
      "source": [
        "# Find our model's learned parameters\n",
        "print(\"The model learned the following values for weights and bias:\")\n",
        "print(model_0.state_dict())\n",
        "print(\"\\nAnd the original values for weights and bias are:\")\n",
        "print(f\"weights: {weight}, bias: {bias}\")"
      ],
      "metadata": {
        "colab": {
          "base_uri": "https://localhost:8080/"
        },
        "id": "5Lqtw3SaqvDP",
        "outputId": "5365c6b3-0b62-4442-8adf-0f5e935e8ac2"
      },
      "execution_count": 37,
      "outputs": [
        {
          "output_type": "stream",
          "name": "stdout",
          "text": [
            "The model learned the following values for weights and bias:\n",
            "OrderedDict([('weights', tensor([0.5260])), ('bias', tensor([0.3711]))])\n",
            "\n",
            "And the original values for weights and bias are:\n",
            "weights: 0.7, bias: 0.3\n"
          ]
        }
      ]
    },
    {
      "cell_type": "code",
      "source": [
        "# 1. Set the model in evaluation mode\n",
        "model_0.eval()\n",
        "\n",
        "# 2. Setup the inference mode context manager\n",
        "with torch.inference_mode():\n",
        "  # 3. Make sure the calculations are done with the model and data on the same device\n",
        "  # in our case, we haven't setup device-agnostic code yet so our data and model are\n",
        "  # on the CPU by default.\n",
        "  # model_0.to(device)\n",
        "  # X_test = X_test.to(device)\n",
        "  y_preds = model_0(X_test)\n",
        "y_preds"
      ],
      "metadata": {
        "colab": {
          "base_uri": "https://localhost:8080/"
        },
        "id": "xUxdPsc7rDFH",
        "outputId": "214a40e7-69c0-46ad-f52d-07302b39843c"
      },
      "execution_count": 38,
      "outputs": [
        {
          "output_type": "execute_result",
          "data": {
            "text/plain": [
              "tensor([[0.7919],\n",
              "        [0.8024],\n",
              "        [0.8130],\n",
              "        [0.8235],\n",
              "        [0.8340],\n",
              "        [0.8445],\n",
              "        [0.8550],\n",
              "        [0.8656],\n",
              "        [0.8761],\n",
              "        [0.8866]])"
            ]
          },
          "metadata": {},
          "execution_count": 38
        }
      ]
    },
    {
      "cell_type": "code",
      "source": [
        "plot_predictions(test_data=X_test, predictions=y_preds)"
      ],
      "metadata": {
        "colab": {
          "base_uri": "https://localhost:8080/",
          "height": 450
        },
        "id": "uDe1PYPDrdSt",
        "outputId": "443b5f30-9a0a-4d6a-9a12-5d79ec179167"
      },
      "execution_count": 40,
      "outputs": [
        {
          "output_type": "display_data",
          "data": {
            "text/plain": [
              "<Figure size 800x500 with 1 Axes>"
            ],
            "image/png": "[encoded data removed]"
          },
          "metadata": {}
        }
      ]
    },
    {
      "cell_type": "code",
      "source": [
        "\n",
        "\n",
        "with torch.inference_mode():\n",
        "  y_preds_new = model_0(X_test)"
      ],
      "metadata": {
        "id": "AiLo2k5qbxme"
      },
      "execution_count": 41,
      "outputs": []
    },
    {
      "cell_type": "code",
      "source": [
        "\n",
        "\n",
        "model_0.state_dict()"
      ],
      "metadata": {
        "colab": {
          "base_uri": "https://localhost:8080/"
        },
        "id": "psmiM_ajb0qt",
        "outputId": "8c5a447d-f74e-4fff-b390-27fd37738f8f"
      },
      "execution_count": 29,
      "outputs": [
        {
          "output_type": "execute_result",
          "data": {
            "text/plain": [
              "OrderedDict([('weights', tensor([0.4899])), ('bias', tensor([0.3830]))])"
            ]
          },
          "metadata": {},
          "execution_count": 29
        }
      ]
    },
    {
      "cell_type": "code",
      "source": [
        "\n",
        "weight, bias\n"
      ],
      "metadata": {
        "colab": {
          "base_uri": "https://localhost:8080/"
        },
        "id": "9A3XUsIfb2wi",
        "outputId": "a5f8f083-1a0c-41a6-b00a-53ebcca0fb07"
      },
      "execution_count": 30,
      "outputs": [
        {
          "output_type": "execute_result",
          "data": {
            "text/plain": [
              "(0.7, 0.3)"
            ]
          },
          "metadata": {},
          "execution_count": 30
        }
      ]
    },
    {
      "cell_type": "code",
      "source": [
        "\n",
        "plot_predictions(predictions=y_preds);\n",
        "\n"
      ],
      "metadata": {
        "colab": {
          "base_uri": "https://localhost:8080/",
          "height": 158
        },
        "id": "Qq8KjoPbb5XK",
        "outputId": "61dd625c-c440-4427-fd53-aa142b06055b"
      },
      "execution_count": 35,
      "outputs": [
        {
          "output_type": "error",
          "ename": "TypeError",
          "evalue": "plot_predictions() missing 1 required positional argument: 'test_data'",
          "traceback": [
            "\u001b[0;31m---------------------------------------------------------------------------\u001b[0m",
            "\u001b[0;31mTypeError\u001b[0m                                 Traceback (most recent call last)",
            "\u001b[0;32m/tmp/ipython-input-35-3955125435.py\u001b[0m in \u001b[0;36m<cell line: 0>\u001b[0;34m()\u001b[0m\n\u001b[0;32m----> 1\u001b[0;31m \u001b[0mplot_predictions\u001b[0m\u001b[0;34m(\u001b[0m\u001b[0mpredictions\u001b[0m\u001b[0;34m=\u001b[0m\u001b[0my_preds\u001b[0m\u001b[0;34m)\u001b[0m\u001b[0;34m;\u001b[0m\u001b[0;34m\u001b[0m\u001b[0;34m\u001b[0m\u001b[0m\n\u001b[0m\u001b[1;32m      2\u001b[0m \u001b[0;34m\u001b[0m\u001b[0m\n",
            "\u001b[0;31mTypeError\u001b[0m: plot_predictions() missing 1 required positional argument: 'test_data'"
          ]
        }
      ]
    },
    {
      "cell_type": "code",
      "source": [
        "plot_predictions(predictions=y_preds_new);\n"
      ],
      "metadata": {
        "colab": {
          "base_uri": "https://localhost:8080/",
          "height": 141
        },
        "id": "l0Y-TW8db_Aa",
        "outputId": "56e1caa6-e88c-451d-a8dc-0ef8c3d4921a"
      },
      "execution_count": 34,
      "outputs": [
        {
          "output_type": "error",
          "ename": "TypeError",
          "evalue": "plot_predictions() missing 1 required positional argument: 'test_data'",
          "traceback": [
            "\u001b[0;31m---------------------------------------------------------------------------\u001b[0m",
            "\u001b[0;31mTypeError\u001b[0m                                 Traceback (most recent call last)",
            "\u001b[0;32m/tmp/ipython-input-34-2791984444.py\u001b[0m in \u001b[0;36m<cell line: 0>\u001b[0;34m()\u001b[0m\n\u001b[0;32m----> 1\u001b[0;31m \u001b[0mplot_predictions\u001b[0m\u001b[0;34m(\u001b[0m\u001b[0mpredictions\u001b[0m\u001b[0;34m=\u001b[0m\u001b[0my_preds_new\u001b[0m\u001b[0;34m)\u001b[0m\u001b[0;34m;\u001b[0m\u001b[0;34m\u001b[0m\u001b[0;34m\u001b[0m\u001b[0m\n\u001b[0m",
            "\u001b[0;31mTypeError\u001b[0m: plot_predictions() missing 1 required positional argument: 'test_data'"
          ]
        }
      ]
    }
  ]
}